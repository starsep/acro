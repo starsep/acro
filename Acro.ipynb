{
 "cells": [
  {
   "cell_type": "code",
   "execution_count": 1,
   "metadata": {},
   "outputs": [],
   "source": [
    "import itertools\n",
    "import random\n",
    "import requests\n",
    "import time\n",
    "from math import sin, cos, radians, atan2, sqrt\n",
    "from typing import NamedTuple\n",
    "import secrets\n",
    "\n",
    "URL = 'https://api.acro.bike/cross/ab_mapp'\n",
    "\n",
    "class Point(NamedTuple):\n",
    "    lat: float\n",
    "    lng: float\n",
    "    \n",
    "    def dist(self, p: \"Point\"):\n",
    "        R = 6373000.0\n",
    "\n",
    "        lat1 = radians(p.lat)\n",
    "        lng1 = radians(p.lng)\n",
    "        lat2 = radians(self.lat)\n",
    "        lng2 = radians(self.lng)\n",
    "\n",
    "        deltaLng = lng2 - lng1\n",
    "        deltaLat = lat2 - lat1\n",
    "\n",
    "        a = sin(deltaLat / 2) ** 2 + cos(lat1) * cos(lat2) * sin(deltaLng / 2) **2\n",
    "        c = 2 * atan2(sqrt(a), sqrt(1 - a))\n",
    "\n",
    "        distance = R * c\n",
    "        return distance\n",
    "    \n",
    "    def move(self, deltaLat, deltaLng):\n",
    "        return Point(lat=self.lat + deltaLat, lng=self.lng + deltaLng)\n",
    "\n",
    "CENTER = Point(lat=52.217049, lng=21.017532)\n",
    "RANGE_LAT = range(-10, 11)\n",
    "RANGE_LNG = range(-10, 11)\n",
    "DELTA_LAT = 0.01\n",
    "DELTA_LNG = 0.01\n",
    "DELTAS = itertools.product(RANGE_LAT, RANGE_LNG)\n",
    "POINTS = list(map(lambda x: CENTER.move(x[0] * DELTA_LAT, x[1] * DELTA_LNG), DELTAS))\n",
    "\n",
    "def login():\n",
    "    sess = requests.Session()\n",
    "    data = {\n",
    "        \"method\": \"UserLogin\",\n",
    "        \"params\": {\n",
    "            \"phone\": secrets.PHONE,\n",
    "            \"devicenum\": secrets.DEVICENUM\n",
    "        }\n",
    "    }\n",
    "    getJSession = sess.get(URL)\n",
    "    loginRequest = sess.post(URL, json=data, cookies=getJSession.cookies)\n",
    "    print(loginRequest.json())\n",
    "    return sess\n",
    "\n",
    "def getBikes(sess, point):\n",
    "    data = {\n",
    "        \"method\": \"GetBike\",\n",
    "        \"params\": {\n",
    "            \"longitude\": str(point.lng),\n",
    "            \"latitude\": str(point.lat),\n",
    "            \"timestamp\": int(time.time())\n",
    "        }\n",
    "    }\n",
    "    bikeRequest = sess.post(URL, json=data)\n",
    "    result = bikeRequest.json()['info']['aroundbikes']\n",
    "    return result\n",
    "\n",
    "def getMultipleBikes(sess, points):\n",
    "    result = []\n",
    "    for point in points:\n",
    "        bikes = getBikes(sess, point)\n",
    "        #time.sleep(random.random())\n",
    "        for bike in bikes:\n",
    "            dup = list(filter(lambda x: x['bikeid'] == bike['bikeid'], result))\n",
    "            if len(dup) > 0:\n",
    "                result.remove(dup[0])\n",
    "            result.append(bike)\n",
    "    return result\n",
    "    "
   ]
  },
  {
   "cell_type": "code",
   "execution_count": 5,
   "metadata": {},
   "outputs": [
    {
     "name": "stdout",
     "output_type": "stream",
     "text": [
      "{'result': 0, 'info': {'identitycheck': '1', 'hasic': 0, 'balance': '2.00', 'voucher': '0.00', 'depositFree': False, 'userrole': '0', 'foregift': 49.0, 'pushType': '0'}}\n",
      "207\n"
     ]
    }
   ],
   "source": [
    "sess = login()\n",
    "\n",
    "bikes = getMultipleBikes(sess, POINTS)\n",
    "print(len(bikes))"
   ]
  },
  {
   "cell_type": "code",
   "execution_count": 3,
   "metadata": {},
   "outputs": [
    {
     "name": "stdout",
     "output_type": "stream",
     "text": [
      "{'result': 0, 'info': {'identitycheck': '1', 'hasic': 0, 'balance': '2.00', 'voucher': '0.00', 'depositFree': False, 'userrole': '0', 'foregift': 49.0, 'pushType': '0'}}\n",
      "76\n"
     ]
    }
   ],
   "source": [
    "sess = login()\n",
    "\n",
    "bikes = getBikes(sess, CENTER)\n",
    "print(len(bikes))"
   ]
  },
  {
   "cell_type": "code",
   "execution_count": 6,
   "metadata": {},
   "outputs": [],
   "source": [
    "import json\n",
    "from pathlib import Path\n",
    "\n",
    "def latLng(bikes):\n",
    "    result = []\n",
    "    for bike in bikes:\n",
    "        result.append({\n",
    "            \"lng\": bike['longitude'],\n",
    "            \"lat\": bike['latitude']\n",
    "        })\n",
    "    return result\n",
    "\n",
    "data = {\n",
    "    \"bikes\": latLng(bikes),\n",
    "    \"points\": list(map(lambda p: p._asdict(), POINTS))\n",
    "}\n",
    "\n",
    "with Path('bikes.json').open('w') as file:\n",
    "    file.write(json.dumps(data, indent=2, sort_keys=True))"
   ]
  }
 ],
 "metadata": {
  "kernelspec": {
   "display_name": "Python 3",
   "language": "python",
   "name": "python3"
  },
  "language_info": {
   "codemirror_mode": {
    "name": "ipython",
    "version": 3
   },
   "file_extension": ".py",
   "mimetype": "text/x-python",
   "name": "python",
   "nbconvert_exporter": "python",
   "pygments_lexer": "ipython3",
   "version": "3.8.5"
  }
 },
 "nbformat": 4,
 "nbformat_minor": 2
}
